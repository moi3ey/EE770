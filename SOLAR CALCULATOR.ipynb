{
 "cells": [
  {
   "cell_type": "markdown",
   "metadata": {},
   "source": [
    "# SOLAR CALCULATOR"
   ]
  },
  {
   "cell_type": "code",
   "execution_count": 10,
   "metadata": {
    "scrolled": true
   },
   "outputs": [
    {
     "name": "stdout",
     "output_type": "stream",
     "text": [
      "Power in KW = 7.777777777777778\n"
     ]
    }
   ],
   "source": [
    "#RatingOfPVPlant\n",
    "E= 1400 #KWh\n",
    "t=6\n",
    "P= E/(t*30)\n",
    "print('Power in KW =',P)"
   ]
  },
  {
   "cell_type": "code",
   "execution_count": 11,
   "metadata": {},
   "outputs": [
    {
     "name": "stdout",
     "output_type": "stream",
     "text": [
      "207407.4074074074\n"
     ]
    }
   ],
   "source": [
    "#Cost of Plant\n",
    "P_W= 300  #Rating Of Panel in W\n",
    "P_C = 8000  #Cost of 1 P_W Watt Panel\n",
    "O_C= (P*1000/P_W)*P_C #Cost of P KW system\n",
    "print(O_C)"
   ]
  },
  {
   "cell_type": "code",
   "execution_count": 8,
   "metadata": {},
   "outputs": [
    {
     "name": "stdout",
     "output_type": "stream",
     "text": [
      "Area Required(m^2)= 88.88888888888889\n"
     ]
    }
   ],
   "source": [
    "#AreaRequired\n",
    "\n",
    "A_1KW = 10 #Area for 1KW in meter square\n",
    "A_P= P*10\n",
    "print('Area Required(m^2)=',A_P)"
   ]
  },
  {
   "cell_type": "code",
   "execution_count": null,
   "metadata": {},
   "outputs": [],
   "source": [
    "#Price : 1 to 100 unit-10rs/Unit\n",
    "#100 to 200 Units- 15rs/Unit\n",
    "#200 to 300 Units- 20rs\n",
    "#>300 Units- 25rs"
   ]
  },
  {
   "cell_type": "code",
   "execution_count": 13,
   "metadata": {},
   "outputs": [
    {
     "name": "stdout",
     "output_type": "stream",
     "text": [
      "Enter No of units:350\n",
      "The Price is: 5750\n"
     ]
    }
   ],
   "source": [
    "units= int(input('Enter No of units:'))\n",
    "if(units<=100):\n",
    "    price= units*10\n",
    "elif(units<=200):\n",
    "    price= (100*10 + (units-100)*15)\n",
    "elif(units<=300):\n",
    "    price= (100*10 + 100*15+ (units-200)*20)\n",
    "elif(units>=300):\n",
    "    price= (100*10 + 100*15 + 100*20 + (units-300)*25)\n",
    "    \n",
    "print('The Price is:',price)\n",
    "\n",
    "    \n"
   ]
  },
  {
   "cell_type": "code",
   "execution_count": null,
   "metadata": {},
   "outputs": [],
   "source": []
  }
 ],
 "metadata": {
  "kernelspec": {
   "display_name": "Python 3",
   "language": "python",
   "name": "python3"
  },
  "language_info": {
   "codemirror_mode": {
    "name": "ipython",
    "version": 3
   },
   "file_extension": ".py",
   "mimetype": "text/x-python",
   "name": "python",
   "nbconvert_exporter": "python",
   "pygments_lexer": "ipython3",
   "version": "3.7.6"
  }
 },
 "nbformat": 4,
 "nbformat_minor": 4
}
