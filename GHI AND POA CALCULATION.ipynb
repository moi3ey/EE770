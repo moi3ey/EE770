{
 "cells": [
  {
   "cell_type": "code",
   "execution_count": 5,
   "metadata": {},
   "outputs": [
    {
     "name": "stdout",
     "output_type": "stream",
     "text": [
      "Collecting pvlib\n",
      "  Downloading pvlib-0.8.1-py3-none-any.whl (22.4 MB)\n",
      "Requirement already satisfied: requests in c:\\users\\deepa\\anaconda3\\lib\\site-packages (from pvlib) (2.22.0)\n",
      "Requirement already satisfied: scipy>=1.2.0 in c:\\users\\deepa\\anaconda3\\lib\\site-packages (from pvlib) (1.4.1)\n",
      "Requirement already satisfied: numpy>=1.12.0 in c:\\users\\deepa\\anaconda3\\lib\\site-packages (from pvlib) (1.18.1)\n",
      "Requirement already satisfied: pandas>=0.22.0 in c:\\users\\deepa\\anaconda3\\lib\\site-packages (from pvlib) (1.0.1)\n",
      "Requirement already satisfied: pytz in c:\\users\\deepa\\anaconda3\\lib\\site-packages (from pvlib) (2019.3)\n",
      "Requirement already satisfied: idna<2.9,>=2.5 in c:\\users\\deepa\\anaconda3\\lib\\site-packages (from requests->pvlib) (2.8)\n",
      "Requirement already satisfied: certifi>=2017.4.17 in c:\\users\\deepa\\anaconda3\\lib\\site-packages (from requests->pvlib) (2019.11.28)\n",
      "Requirement already satisfied: urllib3!=1.25.0,!=1.25.1,<1.26,>=1.21.1 in c:\\users\\deepa\\anaconda3\\lib\\site-packages (from requests->pvlib) (1.25.8)\n",
      "Requirement already satisfied: chardet<3.1.0,>=3.0.2 in c:\\users\\deepa\\anaconda3\\lib\\site-packages (from requests->pvlib) (3.0.4)\n",
      "Requirement already satisfied: python-dateutil>=2.6.1 in c:\\users\\deepa\\anaconda3\\lib\\site-packages (from pandas>=0.22.0->pvlib) (2.8.1)\n",
      "Requirement already satisfied: six>=1.5 in c:\\users\\deepa\\anaconda3\\lib\\site-packages (from python-dateutil>=2.6.1->pandas>=0.22.0->pvlib) (1.14.0)\n",
      "Installing collected packages: pvlib\n",
      "Successfully installed pvlib-0.8.1\n",
      "Note: you may need to restart the kernel to use updated packages.\n"
     ]
    }
   ],
   "source": [
    " pip install pvlib"
   ]
  },
  {
   "cell_type": "markdown",
   "metadata": {},
   "source": [
    "# CALCULATION OF GHI AND POA\n"
   ]
  },
  {
   "cell_type": "code",
   "execution_count": 2,
   "metadata": {},
   "outputs": [],
   "source": [
    "from pvlib import location\n",
    "from pvlib import irradiance\n",
    "import pandas as pd\n",
    "from matplotlib import pyplot as plt"
   ]
  },
  {
   "cell_type": "code",
   "execution_count": 3,
   "metadata": {},
   "outputs": [],
   "source": [
    "# for this example, we will be using Golden, Colorado\n",
    "tz= 'MST'\n",
    "lat, lon= 39.755, -105.221"
   ]
  },
  {
   "cell_type": "code",
   "execution_count": 9,
   "metadata": {},
   "outputs": [],
   "source": [
    "site= location.Location(lat,lon, tz=tz)"
   ]
  },
  {
   "cell_type": "code",
   "execution_count": 4,
   "metadata": {},
   "outputs": [],
   "source": [
    "def get_irradiance(site_location, date, tilt, surface_azimuth):\n",
    "    times= pd.date_range(date, freq='10min', periods= 6*24, tz= site_location.tz)\n",
    "    clearsky= site_location.get_clearsky(times)\n",
    "    solar_position= site_location.get_solarposition(times=times)\n",
    "    POA_irradiance= irradiance.get_total_irradiance(\n",
    "        surface_tilt=tilt,\n",
    "        surface_azimuth=surface_azimuth,\n",
    "        dni= clearsky['dni'],\n",
    "        ghi= clearsky['ghi'],\n",
    "        dhi= clearsky['dhi'],\n",
    "        solar_zenith= solar_position['apparent_zenith'],\n",
    "        solar_azimuth= solar_position['azimuth'])\n",
    "    return pd.DataFrame({'GHI': clearsky['ghi'],\n",
    "                          'POA':POA_irradiance['poa_global']})\n",
    "\n",
    "    "
   ]
  },
  {
   "cell_type": "code",
   "execution_count": 28,
   "metadata": {
    "scrolled": true
   },
   "outputs": [],
   "source": [
    "#Assuming 25 degree tilt and a south facing array\n",
    "summer_irradiance= get_irradiance(site,'6-20-2020',25,180)\n",
    "winter_irradiance= get_irradiance(site,'12-21-2020',25,180)\n",
    "\n"
   ]
  },
  {
   "cell_type": "code",
   "execution_count": 29,
   "metadata": {},
   "outputs": [],
   "source": [
    "#Convert dataframe indexes to Hour:Minute format to make plotting easier\n",
    "summer_irradiance.index= summer_irradiance.index.strftime('%H:%M')\n",
    "winter_irradiance.index= winter_irradiance.index.strftime('%H:%M')\n"
   ]
  },
  {
   "cell_type": "code",
   "execution_count": 30,
   "metadata": {},
   "outputs": [
    {
     "data": {
      "image/png": "[encoded data removed]",
      "text/plain": [
       "<Figure size 432x288 with 2 Axes>"
      ]
     },
     "metadata": {
      "needs_background": "light"
     },
     "output_type": "display_data"
    }
   ],
   "source": [
    "fig, (ax1, ax2) = plt.subplots(1,2, sharey=True)\n",
    "summer_irradiance['GHI'].plot(ax=ax1,label='GHI')\n",
    "summer_irradiance['POA'].plot(ax=ax1,label='POA')\n",
    "winter_irradiance['GHI'].plot(ax=ax2)\n",
    "winter_irradiance['POA'].plot(ax=ax2)\n",
    "ax1.set_xlabel('Time of day (Summer)')\n",
    "ax2.set_xlabel('Time of day (Winter)')\n",
    "\n",
    "plt.show()\n"
   ]
  }
 ],
 "metadata": {
  "kernelspec": {
   "display_name": "Python 3",
   "language": "python",
   "name": "python3"
  },
  "language_info": {
   "codemirror_mode": {
    "name": "ipython",
    "version": 3
   },
   "file_extension": ".py",
   "mimetype": "text/x-python",
   "name": "python",
   "nbconvert_exporter": "python",
   "pygments_lexer": "ipython3",
   "version": "3.7.6"
  }
 },
 "nbformat": 4,
 "nbformat_minor": 4
}
